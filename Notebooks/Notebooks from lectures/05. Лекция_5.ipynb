{
  "nbformat": 4,
  "nbformat_minor": 0,
  "metadata": {
    "colab": {
      "provenance": []
    },
    "kernelspec": {
      "name": "python3",
      "display_name": "Python 3"
    },
    "language_info": {
      "name": "python"
    }
  },
  "cells": [
    {
      "cell_type": "code",
      "source": [
        "import csv\n",
        "from google.colab import drive\n",
        "drive.mount('/content/gdrive')\n"
      ],
      "metadata": {
        "colab": {
          "base_uri": "https://localhost:8080/"
        },
        "id": "DNkEQGj0g7GN",
        "outputId": "f3adfb77-d9d1-482b-c22e-6d2140fc6e99"
      },
      "execution_count": null,
      "outputs": [
        {
          "output_type": "stream",
          "name": "stdout",
          "text": [
            "Drive already mounted at /content/gdrive; to attempt to forcibly remount, call drive.mount(\"/content/gdrive\", force_remount=True).\n"
          ]
        }
      ]
    },
    {
      "cell_type": "code",
      "source": [
        "from sklearn.ensemble import RandomForestClassifier\n",
        "from sklearn.model_selection import cross_val_score\n",
        "import pandas as pd\n",
        "\n",
        "# Загрузка данных\n",
        "df_train = pd.read_csv('gdrive/MyDrive/Data_analysis/ПИ/TrainData.csv')\n",
        "df_test = pd.read_csv('gdrive/MyDrive/Data_analysis/ПИ/TestData.csv')\n",
        "\n",
        "# Предобработка данных\n",
        "# Заполнение пропусков для категориальных данных\n",
        "for col in df_train.select_dtypes(include=['object']).columns:\n",
        "    df_train[col].fillna('unknown', inplace=True)\n",
        "    if col in df_test.columns:\n",
        "        df_test[col].fillna('unknown', inplace=True)\n",
        "\n",
        "# Заполнение пропусков для числовых данных\n",
        "df_train.fillna(df_train.mean(numeric_only=True), inplace=True)\n",
        "df_test.fillna(df_test.mean(numeric_only=True), inplace=True)\n",
        "\n",
        "# Создание признаков и целевой переменной\n",
        "X = df_train.drop(['target'], axis=1)\n",
        "y = df_train['target'].apply(lambda x: 1 if x == 'Churn' else 0)\n",
        "\n",
        "# Кодирование категориальных признаков\n",
        "X = pd.get_dummies(X, drop_first=True)\n",
        "\n",
        "# Обучение модели Random Forest\n",
        "model = RandomForestClassifier(n_estimators=100, random_state=42)\n",
        "scores = cross_val_score(model, X, y, cv=5, scoring='roc_auc')\n",
        "average_roc_auc = scores.mean()\n",
        "print(f'Средний ROC-AUC: {average_roc_auc}')\n",
        "\n",
        "# Обучение модели на всем наборе данных\n",
        "model.fit(X, y)\n",
        "\n",
        "# Обработка тестового набора данных\n",
        "X_test = pd.get_dummies(df_test, drop_first=True)\n",
        "\n",
        "# Приведение столбцов тестового набора данных в соответствие с тренировочным набором\n",
        "X_test = X_test.reindex(columns=X.columns, fill_value=0)\n",
        "\n",
        "# Предсказание на тестовых данных\n",
        "predictions = model.predict_proba(X_test)[:, 1]\n",
        "\n",
        "# Сохранение предсказаний в файл\n",
        "result_file_path = 'gdrive/MyDrive/Data_analysis/ПИ/result.txt'\n",
        "pd.DataFrame(predictions, columns=['Prediction']).to_csv(result_file_path, index=False)\n"
      ],
      "metadata": {
        "colab": {
          "base_uri": "https://localhost:8080/"
        },
        "id": "ZM-TM9yEtn3C",
        "outputId": "024c8dfe-7c06-4580-eae4-18308da38105"
      },
      "execution_count": null,
      "outputs": [
        {
          "output_type": "stream",
          "name": "stdout",
          "text": [
            "Средний ROC-AUC: 0.9289802761992864\n"
          ]
        }
      ]
    },
    {
      "cell_type": "code",
      "source": [
        "from xgboost import XGBClassifier\n",
        "from sklearn.model_selection import cross_val_score\n",
        "import pandas as pd\n",
        "\n",
        "# Загрузка данных\n",
        "df_train = pd.read_csv('gdrive/MyDrive/Data_analysis/ПИ/TrainData.csv')\n",
        "df_test = pd.read_csv('gdrive/MyDrive/Data_analysis/ПИ/TestData.csv')\n",
        "\n",
        "# Предобработка данных\n",
        "# Заполнение пропусков для категориальных данных\n",
        "for col in df_train.select_dtypes(include=['object']).columns:\n",
        "    df_train[col].fillna('unknown', inplace=True)\n",
        "    if col in df_test.columns:\n",
        "        df_test[col].fillna('unknown', inplace=True)\n",
        "\n",
        "# Заполнение пропусков для числовых данных\n",
        "df_train.fillna(df_train.mean(numeric_only=True), inplace=True)\n",
        "df_test.fillna(df_test.mean(numeric_only=True), inplace=True)\n",
        "\n",
        "# Создание признаков и целевой переменной\n",
        "X = df_train.drop(['target'], axis=1)\n",
        "y = df_train['target'].apply(lambda x: 1 if x == 'Churn' else 0)\n",
        "\n",
        "# Кодирование категориальных признаков\n",
        "X = pd.get_dummies(X, drop_first=True)\n",
        "\n",
        "# Обучение модели XGBoost\n",
        "model = XGBClassifier(use_label_encoder=False, eval_metric='logloss')\n",
        "scores = cross_val_score(model, X, y, cv=5, scoring='roc_auc')\n",
        "print(f'Средний ROC-AUC: {scores.mean()}')\n",
        "\n",
        "model.fit(X, y)\n",
        "\n",
        "#X_test = df_test.drop(['score-1', 'score-2', 'score-3'], axis=1)\n",
        "X_test = pd.get_dummies(X_test, drop_first=True)\n",
        "predictions = model.predict_proba(X_test)[:, 1]\n",
        "\n",
        "pd.DataFrame(predictions, columns=['Prediction']).to_csv('result.txt', index=False)\n"
      ],
      "metadata": {
        "colab": {
          "base_uri": "https://localhost:8080/",
          "height": 400
        },
        "id": "Mg8Q8jCpt5PI",
        "outputId": "9a210cf2-334c-4287-a094-62896c1e701e"
      },
      "execution_count": null,
      "outputs": [
        {
          "output_type": "stream",
          "name": "stdout",
          "text": [
            "Средний ROC-AUC: 0.9205679265230607\n"
          ]
        },
        {
          "output_type": "error",
          "ename": "ValueError",
          "evalue": "Data must be 1-dimensional, got ndarray of shape (4128, 8) instead",
          "traceback": [
            "\u001b[0;31m---------------------------------------------------------------------------\u001b[0m",
            "\u001b[0;31mValueError\u001b[0m                                Traceback (most recent call last)",
            "\u001b[0;32m<ipython-input-23-e0c801ca7859>\u001b[0m in \u001b[0;36m<cell line: 35>\u001b[0;34m()\u001b[0m\n\u001b[1;32m     33\u001b[0m \u001b[0;34m\u001b[0m\u001b[0m\n\u001b[1;32m     34\u001b[0m \u001b[0;31m#X_test = df_test.drop(['score-1', 'score-2', 'score-3'], axis=1)\u001b[0m\u001b[0;34m\u001b[0m\u001b[0;34m\u001b[0m\u001b[0m\n\u001b[0;32m---> 35\u001b[0;31m \u001b[0mX_test\u001b[0m \u001b[0;34m=\u001b[0m \u001b[0mpd\u001b[0m\u001b[0;34m.\u001b[0m\u001b[0mget_dummies\u001b[0m\u001b[0;34m(\u001b[0m\u001b[0mX_test\u001b[0m\u001b[0;34m,\u001b[0m \u001b[0mdrop_first\u001b[0m\u001b[0;34m=\u001b[0m\u001b[0;32mTrue\u001b[0m\u001b[0;34m)\u001b[0m\u001b[0;34m\u001b[0m\u001b[0;34m\u001b[0m\u001b[0m\n\u001b[0m\u001b[1;32m     36\u001b[0m \u001b[0mpredictions\u001b[0m \u001b[0;34m=\u001b[0m \u001b[0mmodel\u001b[0m\u001b[0;34m.\u001b[0m\u001b[0mpredict_proba\u001b[0m\u001b[0;34m(\u001b[0m\u001b[0mX_test\u001b[0m\u001b[0;34m)\u001b[0m\u001b[0;34m[\u001b[0m\u001b[0;34m:\u001b[0m\u001b[0;34m,\u001b[0m \u001b[0;36m1\u001b[0m\u001b[0;34m]\u001b[0m\u001b[0;34m\u001b[0m\u001b[0;34m\u001b[0m\u001b[0m\n\u001b[1;32m     37\u001b[0m \u001b[0;34m\u001b[0m\u001b[0m\n",
            "\u001b[0;32m/usr/local/lib/python3.10/dist-packages/pandas/core/reshape/encoding.py\u001b[0m in \u001b[0;36mget_dummies\u001b[0;34m(data, prefix, prefix_sep, dummy_na, columns, sparse, drop_first, dtype)\u001b[0m\n\u001b[1;32m    213\u001b[0m         \u001b[0mresult\u001b[0m \u001b[0;34m=\u001b[0m \u001b[0mconcat\u001b[0m\u001b[0;34m(\u001b[0m\u001b[0mwith_dummies\u001b[0m\u001b[0;34m,\u001b[0m \u001b[0maxis\u001b[0m\u001b[0;34m=\u001b[0m\u001b[0;36m1\u001b[0m\u001b[0;34m)\u001b[0m\u001b[0;34m\u001b[0m\u001b[0;34m\u001b[0m\u001b[0m\n\u001b[1;32m    214\u001b[0m     \u001b[0;32melse\u001b[0m\u001b[0;34m:\u001b[0m\u001b[0;34m\u001b[0m\u001b[0;34m\u001b[0m\u001b[0m\n\u001b[0;32m--> 215\u001b[0;31m         result = _get_dummies_1d(\n\u001b[0m\u001b[1;32m    216\u001b[0m             \u001b[0mdata\u001b[0m\u001b[0;34m,\u001b[0m\u001b[0;34m\u001b[0m\u001b[0;34m\u001b[0m\u001b[0m\n\u001b[1;32m    217\u001b[0m             \u001b[0mprefix\u001b[0m\u001b[0;34m,\u001b[0m\u001b[0;34m\u001b[0m\u001b[0;34m\u001b[0m\u001b[0m\n",
            "\u001b[0;32m/usr/local/lib/python3.10/dist-packages/pandas/core/reshape/encoding.py\u001b[0m in \u001b[0;36m_get_dummies_1d\u001b[0;34m(data, prefix, prefix_sep, dummy_na, sparse, drop_first, dtype)\u001b[0m\n\u001b[1;32m    237\u001b[0m \u001b[0;34m\u001b[0m\u001b[0m\n\u001b[1;32m    238\u001b[0m     \u001b[0;31m# Series avoids inconsistent NaN handling\u001b[0m\u001b[0;34m\u001b[0m\u001b[0;34m\u001b[0m\u001b[0m\n\u001b[0;32m--> 239\u001b[0;31m     \u001b[0mcodes\u001b[0m\u001b[0;34m,\u001b[0m \u001b[0mlevels\u001b[0m \u001b[0;34m=\u001b[0m \u001b[0mfactorize_from_iterable\u001b[0m\u001b[0;34m(\u001b[0m\u001b[0mSeries\u001b[0m\u001b[0;34m(\u001b[0m\u001b[0mdata\u001b[0m\u001b[0;34m,\u001b[0m \u001b[0mcopy\u001b[0m\u001b[0;34m=\u001b[0m\u001b[0;32mFalse\u001b[0m\u001b[0;34m)\u001b[0m\u001b[0;34m)\u001b[0m\u001b[0;34m\u001b[0m\u001b[0;34m\u001b[0m\u001b[0m\n\u001b[0m\u001b[1;32m    240\u001b[0m \u001b[0;34m\u001b[0m\u001b[0m\n\u001b[1;32m    241\u001b[0m     \u001b[0;32mif\u001b[0m \u001b[0mdtype\u001b[0m \u001b[0;32mis\u001b[0m \u001b[0;32mNone\u001b[0m\u001b[0;34m:\u001b[0m\u001b[0;34m\u001b[0m\u001b[0;34m\u001b[0m\u001b[0m\n",
            "\u001b[0;32m/usr/local/lib/python3.10/dist-packages/pandas/core/series.py\u001b[0m in \u001b[0;36m__init__\u001b[0;34m(self, data, index, dtype, name, copy, fastpath)\u001b[0m\n\u001b[1;32m    507\u001b[0m                 \u001b[0mdata\u001b[0m \u001b[0;34m=\u001b[0m \u001b[0mdata\u001b[0m\u001b[0;34m.\u001b[0m\u001b[0mcopy\u001b[0m\u001b[0;34m(\u001b[0m\u001b[0;34m)\u001b[0m\u001b[0;34m\u001b[0m\u001b[0;34m\u001b[0m\u001b[0m\n\u001b[1;32m    508\u001b[0m         \u001b[0;32melse\u001b[0m\u001b[0;34m:\u001b[0m\u001b[0;34m\u001b[0m\u001b[0;34m\u001b[0m\u001b[0m\n\u001b[0;32m--> 509\u001b[0;31m             \u001b[0mdata\u001b[0m \u001b[0;34m=\u001b[0m \u001b[0msanitize_array\u001b[0m\u001b[0;34m(\u001b[0m\u001b[0mdata\u001b[0m\u001b[0;34m,\u001b[0m \u001b[0mindex\u001b[0m\u001b[0;34m,\u001b[0m \u001b[0mdtype\u001b[0m\u001b[0;34m,\u001b[0m \u001b[0mcopy\u001b[0m\u001b[0;34m)\u001b[0m\u001b[0;34m\u001b[0m\u001b[0;34m\u001b[0m\u001b[0m\n\u001b[0m\u001b[1;32m    510\u001b[0m \u001b[0;34m\u001b[0m\u001b[0m\n\u001b[1;32m    511\u001b[0m             \u001b[0mmanager\u001b[0m \u001b[0;34m=\u001b[0m \u001b[0mget_option\u001b[0m\u001b[0;34m(\u001b[0m\u001b[0;34m\"mode.data_manager\"\u001b[0m\u001b[0;34m)\u001b[0m\u001b[0;34m\u001b[0m\u001b[0;34m\u001b[0m\u001b[0m\n",
            "\u001b[0;32m/usr/local/lib/python3.10/dist-packages/pandas/core/construction.py\u001b[0m in \u001b[0;36msanitize_array\u001b[0;34m(data, index, dtype, copy, allow_2d)\u001b[0m\n\u001b[1;32m    605\u001b[0m                 \u001b[0msubarr\u001b[0m \u001b[0;34m=\u001b[0m \u001b[0mmaybe_infer_to_datetimelike\u001b[0m\u001b[0;34m(\u001b[0m\u001b[0msubarr\u001b[0m\u001b[0;34m)\u001b[0m\u001b[0;34m\u001b[0m\u001b[0;34m\u001b[0m\u001b[0m\n\u001b[1;32m    606\u001b[0m \u001b[0;34m\u001b[0m\u001b[0m\n\u001b[0;32m--> 607\u001b[0;31m     \u001b[0msubarr\u001b[0m \u001b[0;34m=\u001b[0m \u001b[0m_sanitize_ndim\u001b[0m\u001b[0;34m(\u001b[0m\u001b[0msubarr\u001b[0m\u001b[0;34m,\u001b[0m \u001b[0mdata\u001b[0m\u001b[0;34m,\u001b[0m \u001b[0mdtype\u001b[0m\u001b[0;34m,\u001b[0m \u001b[0mindex\u001b[0m\u001b[0;34m,\u001b[0m \u001b[0mallow_2d\u001b[0m\u001b[0;34m=\u001b[0m\u001b[0mallow_2d\u001b[0m\u001b[0;34m)\u001b[0m\u001b[0;34m\u001b[0m\u001b[0;34m\u001b[0m\u001b[0m\n\u001b[0m\u001b[1;32m    608\u001b[0m \u001b[0;34m\u001b[0m\u001b[0m\n\u001b[1;32m    609\u001b[0m     \u001b[0;32mif\u001b[0m \u001b[0misinstance\u001b[0m\u001b[0;34m(\u001b[0m\u001b[0msubarr\u001b[0m\u001b[0;34m,\u001b[0m \u001b[0mnp\u001b[0m\u001b[0;34m.\u001b[0m\u001b[0mndarray\u001b[0m\u001b[0;34m)\u001b[0m\u001b[0;34m:\u001b[0m\u001b[0;34m\u001b[0m\u001b[0;34m\u001b[0m\u001b[0m\n",
            "\u001b[0;32m/usr/local/lib/python3.10/dist-packages/pandas/core/construction.py\u001b[0m in \u001b[0;36m_sanitize_ndim\u001b[0;34m(result, data, dtype, index, allow_2d)\u001b[0m\n\u001b[1;32m    664\u001b[0m             \u001b[0;32mif\u001b[0m \u001b[0mallow_2d\u001b[0m\u001b[0;34m:\u001b[0m\u001b[0;34m\u001b[0m\u001b[0;34m\u001b[0m\u001b[0m\n\u001b[1;32m    665\u001b[0m                 \u001b[0;32mreturn\u001b[0m \u001b[0mresult\u001b[0m\u001b[0;34m\u001b[0m\u001b[0;34m\u001b[0m\u001b[0m\n\u001b[0;32m--> 666\u001b[0;31m             raise ValueError(\n\u001b[0m\u001b[1;32m    667\u001b[0m                 \u001b[0;34mf\"Data must be 1-dimensional, got ndarray of shape {data.shape} instead\"\u001b[0m\u001b[0;34m\u001b[0m\u001b[0;34m\u001b[0m\u001b[0m\n\u001b[1;32m    668\u001b[0m             )\n",
            "\u001b[0;31mValueError\u001b[0m: Data must be 1-dimensional, got ndarray of shape (4128, 8) instead"
          ]
        }
      ]
    },
    {
      "cell_type": "markdown",
      "source": [
        "Линейная регрессия с L2-регуляризацией (Ridge Regression)"
      ],
      "metadata": {
        "id": "n7VbR0AZudE9"
      }
    },
    {
      "cell_type": "code",
      "source": [
        "from sklearn.linear_model import Ridge\n",
        "from sklearn.model_selection import train_test_split\n",
        "from sklearn.metrics import mean_squared_error\n",
        "\n",
        "# Пример данных\n",
        "\n",
        "X_train, X_test, y_train, y_test = train_test_split(X, y, test_size=0.2, random_state=42)\n",
        "\n",
        "# Модель с регуляризацией\n",
        "model = Ridge(alpha=1.0)\n",
        "model.fit(X_train, y_train)\n",
        "\n",
        "# Оценка модели\n",
        "y_pred = model.predict(X_test)\n",
        "mse = mean_squared_error(y_test, y_pred)\n",
        "print(f'Mean Squared Error: {mse}')\n"
      ],
      "metadata": {
        "colab": {
          "base_uri": "https://localhost:8080/"
        },
        "id": "capemgH1uTXV",
        "outputId": "f519ba17-0c01-4022-f5a1-18fbad2462b7"
      },
      "execution_count": null,
      "outputs": [
        {
          "output_type": "stream",
          "name": "stdout",
          "text": [
            "Mean Squared Error: 0.09392192890442463\n"
          ]
        }
      ]
    },
    {
      "cell_type": "markdown",
      "source": [
        "Логистическая регрессия с L1-регуляризацией (Lasso)"
      ],
      "metadata": {
        "id": "znFIm6uMumui"
      }
    },
    {
      "cell_type": "code",
      "source": [
        "from sklearn.linear_model import LogisticRegression\n",
        "\n",
        "# Пример данных\n",
        "\n",
        "X_train, X_test, y_train, y_test = train_test_split(X, y, test_size=0.2, random_state=42)\n",
        "\n",
        "# Модель с регуляризацией\n",
        "model = LogisticRegression(penalty='l1', solver='liblinear', C=1.0)\n",
        "model.fit(X_train, y_train)\n",
        "\n",
        "# Оценка модели\n",
        "accuracy = model.score(X_test, y_test)\n",
        "print(f'Accuracy: {accuracy}')\n"
      ],
      "metadata": {
        "colab": {
          "base_uri": "https://localhost:8080/"
        },
        "id": "JjiiQsuvukMb",
        "outputId": "fd5dd9d0-1db2-4117-a626-64b16b824c51"
      },
      "execution_count": null,
      "outputs": [
        {
          "output_type": "stream",
          "name": "stdout",
          "text": [
            "Accuracy: 0.8640776699029126\n"
          ]
        }
      ]
    },
    {
      "cell_type": "markdown",
      "source": [
        "Примеры применения кросс-валидации"
      ],
      "metadata": {
        "id": "3D82EGcXuyLH"
      }
    },
    {
      "cell_type": "code",
      "source": [
        "from sklearn.model_selection import cross_val_score\n",
        "from sklearn.linear_model import Ridge\n",
        "\n",
        "# Пример данных\n",
        "\n",
        "\n",
        "# Модель с регуляризацией\n",
        "model = Ridge(alpha=1.0)\n",
        "\n",
        "# K-fold кросс-валидация\n",
        "scores = cross_val_score(model, X, y, cv=5, scoring='neg_mean_squared_error')\n",
        "print(f'Cross-Validation MSE: {-scores.mean()}')\n"
      ],
      "metadata": {
        "colab": {
          "base_uri": "https://localhost:8080/"
        },
        "id": "deVWvIO0u2vy",
        "outputId": "6871594e-95ec-463d-bdb8-91fab1cb51bc"
      },
      "execution_count": null,
      "outputs": [
        {
          "output_type": "stream",
          "name": "stdout",
          "text": [
            "Cross-Validation MSE: 0.11016632459978429\n"
          ]
        }
      ]
    },
    {
      "cell_type": "code",
      "source": [
        "from sklearn.model_selection import GridSearchCV\n",
        "from sklearn.linear_model import Ridge\n",
        "\n",
        "# Пример данных\n",
        "\n",
        "\n",
        "# Модель с регуляризацией\n",
        "model = Ridge()\n",
        "\n",
        "# Сетка гиперпараметров\n",
        "param_grid = {'alpha': [0.1, 1.0, 10.0, 100.0]}\n",
        "\n",
        "# Grid Search\n",
        "grid_search = GridSearchCV(model, param_grid, cv=5, scoring='neg_mean_squared_error')\n",
        "grid_search.fit(X, y)\n",
        "\n",
        "print(f'Best Params: {grid_search.best_params_}')\n",
        "print(f'Best Cross-Validation MSE: {-grid_search.best_score_}')\n"
      ],
      "metadata": {
        "colab": {
          "base_uri": "https://localhost:8080/"
        },
        "id": "aLacOxF4u4Yw",
        "outputId": "214e963c-b17b-4b08-a967-c56067abfbc2"
      },
      "execution_count": null,
      "outputs": [
        {
          "output_type": "stream",
          "name": "stdout",
          "text": [
            "Best Params: {'alpha': 1.0}\n",
            "Best Cross-Validation MSE: 0.11016632459978429\n"
          ]
        }
      ]
    },
    {
      "cell_type": "markdown",
      "source": [
        "# Пример реализации нейронной сети с использованием Keras"
      ],
      "metadata": {
        "id": "4Zoggn3avEWU"
      }
    },
    {
      "cell_type": "code",
      "source": [
        "import numpy as np\n",
        "import matplotlib.pyplot as plt\n",
        "from keras.models import Sequential\n",
        "from keras.layers import Dense, Activation\n",
        "from keras.optimizers import Adam\n",
        "from sklearn.model_selection import train_test_split\n",
        "from sklearn.preprocessing import StandardScaler\n",
        "from sklearn.datasets import fetch_california_housing\n",
        "\n",
        "\n",
        "\n",
        "# Разделение данных на тренировочные и тестовые\n",
        "X_train, X_test, y_train, y_test = train_test_split(X, y, test_size=0.2, random_state=42)\n",
        "\n",
        "# Нормализация данных\n",
        "scaler = StandardScaler()\n",
        "X_train = scaler.fit_transform(X_train)\n",
        "X_test = scaler.transform(X_test)\n",
        "\n",
        "# Создание модели\n",
        "model = Sequential()\n",
        "\n",
        "# Добавление первого слоя с 64 нейронами и функцией активации ReLU\n",
        "model.add(Dense(64, input_dim=X_train.shape[1]))\n",
        "model.add(Activation('relu'))\n",
        "\n",
        "# Добавление второго слоя с 32 нейронами и функцией активации ReLU\n",
        "model.add(Dense(32))\n",
        "model.add(Activation('relu'))\n",
        "\n",
        "# Добавление выходного слоя с 1 нейроном и линейной функцией активации (для регрессии)\n",
        "model.add(Dense(1))\n",
        "model.add(Activation('linear'))\n",
        "\n",
        "# Компиляция модели с использованием оптимизатора Adam и функции потерь mean_squared_error\n",
        "model.compile(optimizer=Adam(learning_rate=0.01), loss='mean_squared_error')\n",
        "\n",
        "# Обучение модели и сохранение истории обучения\n",
        "history = model.fit(X_train, y_train, epochs=10, batch_size=32, validation_split=0.2, verbose=1)\n",
        "\n",
        "# Оценка модели на тестовых данных\n",
        "loss = model.evaluate(X_test, y_test)\n",
        "print(f'Test Loss: {loss}')\n",
        "\n",
        "# Визуализация процесса обучения\n",
        "\n",
        "# Построение графика потерь на тренировочных и валидационных данных\n",
        "plt.figure(figsize=(10, 5))\n",
        "plt.plot(history.history['loss'], label='Training Loss')\n",
        "plt.plot(history.history['val_loss'], label='Validation Loss')\n",
        "plt.title('Model Loss During Training')\n",
        "plt.xlabel('Epoch')\n",
        "plt.ylabel('Loss')\n",
        "plt.legend()\n",
        "plt.grid(True)\n",
        "plt.show()\n"
      ],
      "metadata": {
        "colab": {
          "base_uri": "https://localhost:8080/",
          "height": 880
        },
        "id": "x2WViaE7vD58",
        "outputId": "c99a79c5-06cd-47a7-fa5d-a332f139d3ca"
      },
      "execution_count": null,
      "outputs": [
        {
          "output_type": "stream",
          "name": "stdout",
          "text": [
            "Epoch 1/10\n",
            "11/11 [==============================] - 3s 53ms/step - loss: 0.3717 - val_loss: 0.2257\n",
            "Epoch 2/10\n",
            "11/11 [==============================] - 0s 15ms/step - loss: 0.1694 - val_loss: 0.1483\n",
            "Epoch 3/10\n",
            "11/11 [==============================] - 0s 22ms/step - loss: 0.1241 - val_loss: 0.1516\n",
            "Epoch 4/10\n",
            "11/11 [==============================] - 0s 20ms/step - loss: 0.0909 - val_loss: 0.1523\n",
            "Epoch 5/10\n",
            "11/11 [==============================] - 0s 14ms/step - loss: 0.0871 - val_loss: 0.1481\n",
            "Epoch 6/10\n",
            "11/11 [==============================] - 0s 14ms/step - loss: 0.0800 - val_loss: 0.1601\n",
            "Epoch 7/10\n",
            "11/11 [==============================] - 0s 17ms/step - loss: 0.0721 - val_loss: 0.1540\n",
            "Epoch 8/10\n",
            "11/11 [==============================] - 0s 18ms/step - loss: 0.0666 - val_loss: 0.1674\n",
            "Epoch 9/10\n",
            "11/11 [==============================] - 0s 10ms/step - loss: 0.0637 - val_loss: 0.1707\n",
            "Epoch 10/10\n",
            "11/11 [==============================] - 0s 10ms/step - loss: 0.0582 - val_loss: 0.1679\n",
            "4/4 [==============================] - 0s 7ms/step - loss: 0.1211\n",
            "Test Loss: 0.12108626961708069\n"
          ]
        },
        {
          "output_type": "display_data",
          "data": {
            "text/plain": [
              "<Figure size 1000x500 with 1 Axes>"
            ],
            "image/png": "[encoded data removed]"
          },
          "metadata": {}
        }
      ]
    },
    {
      "cell_type": "code",
      "source": [],
      "metadata": {
        "id": "76L7u1NbwU9R"
      },
      "execution_count": null,
      "outputs": []
    },
    {
      "cell_type": "code",
      "source": [],
      "metadata": {
        "id": "QPblKZK9vNGi"
      },
      "execution_count": null,
      "outputs": []
    }
  ]
}